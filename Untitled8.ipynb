{
 "cells": [
  {
   "cell_type": "code",
   "execution_count": 2,
   "id": "0334d568-306d-419a-9a8e-2681715ac0de",
   "metadata": {},
   "outputs": [],
   "source": [
    "import pandas as pd\n",
    "import matplotlib.pyplot as plt\n",
    "import seaborn as sns\n",
    "import plotly.express as px\n",
    "import numpy as np\n",
    "import plotly as pio"
   ]
  },
  {
   "cell_type": "code",
   "execution_count": 3,
   "id": "759b8084-5d4a-4704-8f74-e6df46668d66",
   "metadata": {},
   "outputs": [],
   "source": [
    "user_reviews = pd.read_csv(\"C:/Users/Raghuraman/Downloads/archive (3)/all_combined.csv\")"
   ]
  },
  {
   "cell_type": "code",
   "execution_count": 4,
   "id": "9207d4d3-af80-4b69-b10b-dce20716c928",
   "metadata": {},
   "outputs": [],
   "source": [
    "review_counts =user_reviews['app'].value_counts()\n"
   ]
  },
  {
   "cell_type": "code",
   "execution_count": 5,
   "id": "fb9b5af8-eeb1-4bf7-a818-01bdd87b4329",
   "metadata": {},
   "outputs": [
    {
     "data": {
      "text/plain": [
       "app\n",
       "Facebook                10000\n",
       "WhatsApp                10000\n",
       "Viber                   10000\n",
       "Dropbox                 10000\n",
       "Spotify                 10000\n",
       "Skype                   10000\n",
       "Candy Crush Saga        10000\n",
       "Flipboard               10000\n",
       "Twitter                 10000\n",
       "Netflix                 10000\n",
       "SHAREit                 10000\n",
       "Snapchat                10000\n",
       "Microsoft PowerPoint    10000\n",
       "Microsoft Word          10000\n",
       "Facebook Lite           10000\n",
       "Subway Surfers          10000\n",
       "TikTok                  10000\n",
       "Instagram               10000\n",
       "Facebook Messenger      10000\n",
       "LINE                    10000\n",
       "Name: count, dtype: int64"
      ]
     },
     "execution_count": 5,
     "metadata": {},
     "output_type": "execute_result"
    }
   ],
   "source": [
    "review_counts"
   ]
  },
  {
   "cell_type": "code",
   "execution_count": 6,
   "id": "d568e314-6be5-4f79-a8a6-2d561be72aaf",
   "metadata": {},
   "outputs": [
    {
     "data": {
      "text/html": [
       "<div>\n",
       "<style scoped>\n",
       "    .dataframe tbody tr th:only-of-type {\n",
       "        vertical-align: middle;\n",
       "    }\n",
       "\n",
       "    .dataframe tbody tr th {\n",
       "        vertical-align: top;\n",
       "    }\n",
       "\n",
       "    .dataframe thead th {\n",
       "        text-align: right;\n",
       "    }\n",
       "</style>\n",
       "<table border=\"1\" class=\"dataframe\">\n",
       "  <thead>\n",
       "    <tr style=\"text-align: right;\">\n",
       "      <th></th>\n",
       "      <th>reviewId</th>\n",
       "      <th>content</th>\n",
       "      <th>score</th>\n",
       "      <th>app</th>\n",
       "    </tr>\n",
       "  </thead>\n",
       "  <tbody>\n",
       "    <tr>\n",
       "      <th>0</th>\n",
       "      <td>43d9b9da-e12d-4482-9d1f-dc28ef002ed6</td>\n",
       "      <td>verrygood</td>\n",
       "      <td>5</td>\n",
       "      <td>Facebook</td>\n",
       "    </tr>\n",
       "    <tr>\n",
       "      <th>1</th>\n",
       "      <td>c3fd38a0-85ca-4474-ad49-c8f98a077a6a</td>\n",
       "      <td>Subject: Delay in Account Appeal Review Messag...</td>\n",
       "      <td>1</td>\n",
       "      <td>Facebook</td>\n",
       "    </tr>\n",
       "    <tr>\n",
       "      <th>2</th>\n",
       "      <td>ee782184-97d6-4d17-a0a0-930a18a23baa</td>\n",
       "      <td>Hi, 🥰🙏 👍👍👍❤️❤️❤️❤️niec प्लेटफ्रॉम सोशल मीडिया ...</td>\n",
       "      <td>5</td>\n",
       "      <td>Facebook</td>\n",
       "    </tr>\n",
       "    <tr>\n",
       "      <th>3</th>\n",
       "      <td>3ea78920-4732-456d-a330-d743f95e39b2</td>\n",
       "      <td>I experience to many Cyber warning for my Post...</td>\n",
       "      <td>1</td>\n",
       "      <td>Facebook</td>\n",
       "    </tr>\n",
       "    <tr>\n",
       "      <th>4</th>\n",
       "      <td>a2cc8c4a-7b87-4b97-b42d-80e85b7fa382</td>\n",
       "      <td>okay</td>\n",
       "      <td>5</td>\n",
       "      <td>Facebook</td>\n",
       "    </tr>\n",
       "    <tr>\n",
       "      <th>...</th>\n",
       "      <td>...</td>\n",
       "      <td>...</td>\n",
       "      <td>...</td>\n",
       "      <td>...</td>\n",
       "    </tr>\n",
       "    <tr>\n",
       "      <th>199995</th>\n",
       "      <td>8c988528-7ed2-4051-81df-b9bdef82c011</td>\n",
       "      <td>🥲🥲 Bhai mere developer tujhe hamare data se ki...</td>\n",
       "      <td>1</td>\n",
       "      <td>LINE</td>\n",
       "    </tr>\n",
       "    <tr>\n",
       "      <th>199996</th>\n",
       "      <td>94b01af4-3c9e-474c-ab91-69ec72b4f637</td>\n",
       "      <td>Good</td>\n",
       "      <td>5</td>\n",
       "      <td>LINE</td>\n",
       "    </tr>\n",
       "    <tr>\n",
       "      <th>199997</th>\n",
       "      <td>e2cb56e5-a37f-4839-aeb0-54a9e426195a</td>\n",
       "      <td>i suddenly become unable to send massage line app</td>\n",
       "      <td>5</td>\n",
       "      <td>LINE</td>\n",
       "    </tr>\n",
       "    <tr>\n",
       "      <th>199998</th>\n",
       "      <td>b0cc8384-4559-4685-9b31-fee55aa1c404</td>\n",
       "      <td>Poor CS. No solution for stolen account</td>\n",
       "      <td>1</td>\n",
       "      <td>LINE</td>\n",
       "    </tr>\n",
       "    <tr>\n",
       "      <th>199999</th>\n",
       "      <td>b75a1366-c3c2-403a-91bd-c820124f577c</td>\n",
       "      <td>hello everyone</td>\n",
       "      <td>5</td>\n",
       "      <td>LINE</td>\n",
       "    </tr>\n",
       "  </tbody>\n",
       "</table>\n",
       "<p>200000 rows × 4 columns</p>\n",
       "</div>"
      ],
      "text/plain": [
       "                                    reviewId  \\\n",
       "0       43d9b9da-e12d-4482-9d1f-dc28ef002ed6   \n",
       "1       c3fd38a0-85ca-4474-ad49-c8f98a077a6a   \n",
       "2       ee782184-97d6-4d17-a0a0-930a18a23baa   \n",
       "3       3ea78920-4732-456d-a330-d743f95e39b2   \n",
       "4       a2cc8c4a-7b87-4b97-b42d-80e85b7fa382   \n",
       "...                                      ...   \n",
       "199995  8c988528-7ed2-4051-81df-b9bdef82c011   \n",
       "199996  94b01af4-3c9e-474c-ab91-69ec72b4f637   \n",
       "199997  e2cb56e5-a37f-4839-aeb0-54a9e426195a   \n",
       "199998  b0cc8384-4559-4685-9b31-fee55aa1c404   \n",
       "199999  b75a1366-c3c2-403a-91bd-c820124f577c   \n",
       "\n",
       "                                                  content  score       app  \n",
       "0                                               verrygood      5  Facebook  \n",
       "1       Subject: Delay in Account Appeal Review Messag...      1  Facebook  \n",
       "2       Hi, 🥰🙏 👍👍👍❤️❤️❤️❤️niec प्लेटफ्रॉम सोशल मीडिया ...      5  Facebook  \n",
       "3       I experience to many Cyber warning for my Post...      1  Facebook  \n",
       "4                                                    okay      5  Facebook  \n",
       "...                                                   ...    ...       ...  \n",
       "199995  🥲🥲 Bhai mere developer tujhe hamare data se ki...      1      LINE  \n",
       "199996                                               Good      5      LINE  \n",
       "199997  i suddenly become unable to send massage line app      5      LINE  \n",
       "199998            Poor CS. No solution for stolen account      1      LINE  \n",
       "199999                                     hello everyone      5      LINE  \n",
       "\n",
       "[200000 rows x 4 columns]"
      ]
     },
     "execution_count": 6,
     "metadata": {},
     "output_type": "execute_result"
    }
   ],
   "source": [
    "user_reviews "
   ]
  },
  {
   "cell_type": "code",
   "execution_count": 7,
   "id": "d14206e3-da8f-42e7-ac7e-9139378c55f6",
   "metadata": {},
   "outputs": [],
   "source": [
    "apps_with_enough_reviews = review_counts[review_counts > 1000].index\n",
    "user_review = user_reviews[user_reviews['app'].isin(apps_with_enough_reviews)]"
   ]
  },
  {
   "cell_type": "code",
   "execution_count": 8,
   "id": "692f4dc6-d8ab-4b72-ba03-c99538bc8d33",
   "metadata": {},
   "outputs": [
    {
     "data": {
      "text/html": [
       "<div>\n",
       "<style scoped>\n",
       "    .dataframe tbody tr th:only-of-type {\n",
       "        vertical-align: middle;\n",
       "    }\n",
       "\n",
       "    .dataframe tbody tr th {\n",
       "        vertical-align: top;\n",
       "    }\n",
       "\n",
       "    .dataframe thead th {\n",
       "        text-align: right;\n",
       "    }\n",
       "</style>\n",
       "<table border=\"1\" class=\"dataframe\">\n",
       "  <thead>\n",
       "    <tr style=\"text-align: right;\">\n",
       "      <th></th>\n",
       "      <th>reviewId</th>\n",
       "      <th>content</th>\n",
       "      <th>score</th>\n",
       "      <th>app</th>\n",
       "    </tr>\n",
       "  </thead>\n",
       "  <tbody>\n",
       "    <tr>\n",
       "      <th>0</th>\n",
       "      <td>43d9b9da-e12d-4482-9d1f-dc28ef002ed6</td>\n",
       "      <td>verrygood</td>\n",
       "      <td>5</td>\n",
       "      <td>Facebook</td>\n",
       "    </tr>\n",
       "    <tr>\n",
       "      <th>1</th>\n",
       "      <td>c3fd38a0-85ca-4474-ad49-c8f98a077a6a</td>\n",
       "      <td>Subject: Delay in Account Appeal Review Messag...</td>\n",
       "      <td>1</td>\n",
       "      <td>Facebook</td>\n",
       "    </tr>\n",
       "    <tr>\n",
       "      <th>2</th>\n",
       "      <td>ee782184-97d6-4d17-a0a0-930a18a23baa</td>\n",
       "      <td>Hi, 🥰🙏 👍👍👍❤️❤️❤️❤️niec प्लेटफ्रॉम सोशल मीडिया ...</td>\n",
       "      <td>5</td>\n",
       "      <td>Facebook</td>\n",
       "    </tr>\n",
       "    <tr>\n",
       "      <th>3</th>\n",
       "      <td>3ea78920-4732-456d-a330-d743f95e39b2</td>\n",
       "      <td>I experience to many Cyber warning for my Post...</td>\n",
       "      <td>1</td>\n",
       "      <td>Facebook</td>\n",
       "    </tr>\n",
       "    <tr>\n",
       "      <th>4</th>\n",
       "      <td>a2cc8c4a-7b87-4b97-b42d-80e85b7fa382</td>\n",
       "      <td>okay</td>\n",
       "      <td>5</td>\n",
       "      <td>Facebook</td>\n",
       "    </tr>\n",
       "    <tr>\n",
       "      <th>...</th>\n",
       "      <td>...</td>\n",
       "      <td>...</td>\n",
       "      <td>...</td>\n",
       "      <td>...</td>\n",
       "    </tr>\n",
       "    <tr>\n",
       "      <th>199995</th>\n",
       "      <td>8c988528-7ed2-4051-81df-b9bdef82c011</td>\n",
       "      <td>🥲🥲 Bhai mere developer tujhe hamare data se ki...</td>\n",
       "      <td>1</td>\n",
       "      <td>LINE</td>\n",
       "    </tr>\n",
       "    <tr>\n",
       "      <th>199996</th>\n",
       "      <td>94b01af4-3c9e-474c-ab91-69ec72b4f637</td>\n",
       "      <td>Good</td>\n",
       "      <td>5</td>\n",
       "      <td>LINE</td>\n",
       "    </tr>\n",
       "    <tr>\n",
       "      <th>199997</th>\n",
       "      <td>e2cb56e5-a37f-4839-aeb0-54a9e426195a</td>\n",
       "      <td>i suddenly become unable to send massage line app</td>\n",
       "      <td>5</td>\n",
       "      <td>LINE</td>\n",
       "    </tr>\n",
       "    <tr>\n",
       "      <th>199998</th>\n",
       "      <td>b0cc8384-4559-4685-9b31-fee55aa1c404</td>\n",
       "      <td>Poor CS. No solution for stolen account</td>\n",
       "      <td>1</td>\n",
       "      <td>LINE</td>\n",
       "    </tr>\n",
       "    <tr>\n",
       "      <th>199999</th>\n",
       "      <td>b75a1366-c3c2-403a-91bd-c820124f577c</td>\n",
       "      <td>hello everyone</td>\n",
       "      <td>5</td>\n",
       "      <td>LINE</td>\n",
       "    </tr>\n",
       "  </tbody>\n",
       "</table>\n",
       "<p>200000 rows × 4 columns</p>\n",
       "</div>"
      ],
      "text/plain": [
       "                                    reviewId  \\\n",
       "0       43d9b9da-e12d-4482-9d1f-dc28ef002ed6   \n",
       "1       c3fd38a0-85ca-4474-ad49-c8f98a077a6a   \n",
       "2       ee782184-97d6-4d17-a0a0-930a18a23baa   \n",
       "3       3ea78920-4732-456d-a330-d743f95e39b2   \n",
       "4       a2cc8c4a-7b87-4b97-b42d-80e85b7fa382   \n",
       "...                                      ...   \n",
       "199995  8c988528-7ed2-4051-81df-b9bdef82c011   \n",
       "199996  94b01af4-3c9e-474c-ab91-69ec72b4f637   \n",
       "199997  e2cb56e5-a37f-4839-aeb0-54a9e426195a   \n",
       "199998  b0cc8384-4559-4685-9b31-fee55aa1c404   \n",
       "199999  b75a1366-c3c2-403a-91bd-c820124f577c   \n",
       "\n",
       "                                                  content  score       app  \n",
       "0                                               verrygood      5  Facebook  \n",
       "1       Subject: Delay in Account Appeal Review Messag...      1  Facebook  \n",
       "2       Hi, 🥰🙏 👍👍👍❤️❤️❤️❤️niec प्लेटफ्रॉम सोशल मीडिया ...      5  Facebook  \n",
       "3       I experience to many Cyber warning for my Post...      1  Facebook  \n",
       "4                                                    okay      5  Facebook  \n",
       "...                                                   ...    ...       ...  \n",
       "199995  🥲🥲 Bhai mere developer tujhe hamare data se ki...      1      LINE  \n",
       "199996                                               Good      5      LINE  \n",
       "199997  i suddenly become unable to send massage line app      5      LINE  \n",
       "199998            Poor CS. No solution for stolen account      1      LINE  \n",
       "199999                                     hello everyone      5      LINE  \n",
       "\n",
       "[200000 rows x 4 columns]"
      ]
     },
     "execution_count": 8,
     "metadata": {},
     "output_type": "execute_result"
    }
   ],
   "source": [
    "user_review "
   ]
  },
  {
   "cell_type": "code",
   "execution_count": 9,
   "id": "1c25cf56-0a69-4111-a396-0b972c7c49bf",
   "metadata": {},
   "outputs": [
    {
     "data": {
      "text/plain": [
       "199950                                                 Good\n",
       "199951       Private communication to my family and friends\n",
       "199952    Why can't I simply delete a person? Why do I h...\n",
       "199953                                                ดีมาก\n",
       "199954                                                 Good\n",
       "199955                      Not working on my type of phone\n",
       "199956    why my phone verification had been blocked til...\n",
       "199957                                  Besoin de connexion\n",
       "199958                                                 good\n",
       "199959                    I cant read my mom message​ help💀\n",
       "199960                                                   ดี\n",
       "199961                                          ชื่อ​9 ,,,,\n",
       "199962    Why isn't supported Malaysia country? Last tim...\n",
       "199963                                       Great App👍👍👍👍👍\n",
       "199964    Update with no details provided. Diff country ...\n",
       "199965                    Describeyourexperience (Optional)\n",
       "199966                    Very disgusting app, never use it\n",
       "199967                                              MA HTAY\n",
       "199968             Can not search user in the other country\n",
       "199969    A very bad app, blocked the ID for 60 days. Wh...\n",
       "199970                                                 Poor\n",
       "199971                                  It is beautiful app\n",
       "199972    Why LINE VOOM isn't available in my country (B...\n",
       "199973    Gets more and more unreliable after every upda...\n",
       "199974    When you surf Thur the web there are many user...\n",
       "199975                                                 Nosi\n",
       "199976                              Bring back Voom please!\n",
       "199977                                             Nice app\n",
       "199978    Very bad apps 😡never download this apps 😡 i do...\n",
       "199979    Send out invitation & msg to my Taiwanese frie...\n",
       "199980    It's gone downhill in the past 5 years I've us...\n",
       "199981    Japanese LINE version is SUPER TRASH, full of ...\n",
       "199982                                               Good 👍\n",
       "199983                                                 Good\n",
       "199984                                                 good\n",
       "199985                         Why i cnt post story anymore\n",
       "199986                    diskripsi dalam zoom kurang bagus\n",
       "199987    What happened to the line apps I can't se the ...\n",
       "199988    ฉันไม่สามารถใช้ สตอรี่ได้ และ โพสต์ของเพื่อนแล...\n",
       "199989    Was great until they took voom away. Will go b...\n",
       "199990    I'm trying to put in my I'd and all I keep get...\n",
       "199991                                       cannot install\n",
       "199992    Can't even register or login ,the app keep ask...\n",
       "199993    Look, the app is wonderful, my only con and th...\n",
       "199994                                            Nj credit\n",
       "199995    🥲🥲 Bhai mere developer tujhe hamare data se ki...\n",
       "199996                                                 Good\n",
       "199997    i suddenly become unable to send massage line app\n",
       "199998              Poor CS. No solution for stolen account\n",
       "199999                                       hello everyone\n",
       "Name: content, dtype: object"
      ]
     },
     "execution_count": 9,
     "metadata": {},
     "output_type": "execute_result"
    }
   ],
   "source": [
    "user_review ['content'].tail(50)"
   ]
  },
  {
   "cell_type": "code",
   "execution_count": 10,
   "id": "b7adfa4d-670a-4747-86f1-737153a54e4b",
   "metadata": {},
   "outputs": [],
   "source": [
    "user_review ['content']=user_review ['content'].str.replace(',','').str.replace('+','').str.replace(': ','').str.replace('🥰🙏 👍👍👍❤️❤️❤️❤️','').str.replace('🥲🥲','').str.replace(' 😩 ','').str.replace('...','').str.replace('💯😊','').str.replace('💀','').str.replace('🥲🥲','').str.replace('👍','').str.replace('😡','').str.replace('+','').str.replace('','').astype(str)\n",
    "def rating_group(score):\n",
    "    if score<= 2:\n",
    "        return '1-2 stars'\n",
    "    elif score == 3:\n",
    "        return '3 stars'\n",
    "    else:\n",
    "        return '4-5 stars'"
   ]
  },
  {
   "cell_type": "code",
   "execution_count": 11,
   "id": "1a88c130-d11f-41e8-9c2f-fb2053f3d5e6",
   "metadata": {},
   "outputs": [],
   "source": [
    "user_review ['rating_group'] = user_review ['score'].apply(rating_group)"
   ]
  },
  {
   "cell_type": "code",
   "execution_count": 12,
   "id": "c05a7f0d-2c3e-4586-aead-5dd564b7c7f3",
   "metadata": {},
   "outputs": [
    {
     "data": {
      "text/plain": [
       "0         4-5 stars\n",
       "1         1-2 stars\n",
       "2         4-5 stars\n",
       "3         1-2 stars\n",
       "4         4-5 stars\n",
       "            ...    \n",
       "199995    1-2 stars\n",
       "199996    4-5 stars\n",
       "199997    4-5 stars\n",
       "199998    1-2 stars\n",
       "199999    4-5 stars\n",
       "Name: rating_group, Length: 200000, dtype: object"
      ]
     },
     "execution_count": 12,
     "metadata": {},
     "output_type": "execute_result"
    }
   ],
   "source": [
    "user_review ['rating_group']"
   ]
  },
  {
   "cell_type": "code",
   "execution_count": 13,
   "id": "8ac12524-9ad0-45e2-95af-b53a81e89631",
   "metadata": {},
   "outputs": [
    {
     "name": "stderr",
     "output_type": "stream",
     "text": [
      "[nltk_data] Downloading package vader_lexicon to\n",
      "[nltk_data]     C:\\Users\\Raghuraman\\AppData\\Roaming\\nltk_data...\n",
      "[nltk_data]   Package vader_lexicon is already up-to-date!\n"
     ]
    }
   ],
   "source": [
    "\n",
    "import nltk\n",
    "import os\n",
    "nltk.download('vader_lexicon')\n",
    "from nltk.sentiment.vader import SentimentIntensityAnalyzer\n",
    "sen=SentimentIntensityAnalyzer()\n",
    "sentiment_counts = user_review.groupby(['content', 'rating_group', 'score','app']).size().reset_index(name='count')\n",
    "user_review['sentiment_score'] = user_review['content'].apply(lambda x: sen.polarity_scores(str(x))['compound'])\n"
   ]
  },
  {
   "cell_type": "code",
   "execution_count": 14,
   "id": "3ded2fd9-258c-4604-aec0-06b213cca60f",
   "metadata": {},
   "outputs": [
    {
     "name": "stdout",
     "output_type": "stream",
     "text": [
      "                                             content  sentiment_score  \\\n",
      "0                                          verrygood           0.0000   \n",
      "1  SubjectDelay in Account Appeal Review MessageM...           0.4939   \n",
      "2  Hi niec प्लेटफ्रॉम सोशल मीडिया 🥰thank you 🙏🙏🙏🙏...           0.0000   \n",
      "3  I experience to many Cyber warning for my Post...          -0.3400   \n",
      "4                                               okay           0.2263   \n",
      "\n",
      "  sentiment  \n",
      "0   neutral  \n",
      "1  positive  \n",
      "2   neutral  \n",
      "3  negative  \n",
      "4  positive  \n"
     ]
    }
   ],
   "source": [
    "user_review['sentiment_score']\n",
    "def classify_sentiment(score):\n",
    "    if score >= 0.05:\n",
    "        return 'positive'\n",
    "    elif score <= -0.05:\n",
    "        return 'negative'\n",
    "    else:\n",
    "        return 'neutral'\n",
    "\n",
    "user_review['sentiment'] = user_review['sentiment_score'].apply(classify_sentiment)\n",
    "\n",
    "# Now you can group and visualize\n",
    "print(user_review[['content', 'sentiment_score', 'sentiment']].head())"
   ]
  },
  {
   "cell_type": "code",
   "execution_count": 16,
   "id": "bc874f44-9fc8-4420-a129-a2e51923c92e",
   "metadata": {},
   "outputs": [
    {
     "data": {
      "image/png": "[encoded data removed]",
      "text/plain": [
       "<Figure size 1400x700 with 1 Axes>"
      ]
     },
     "metadata": {},
     "output_type": "display_data"
    }
   ],
   "source": [
    "# 1. Group by 'rating_group' and 'sentiment' from the 'user_review' DataFrame\n",
    "sentiment_counts = user_review.groupby(['rating_group', 'sentiment']).size().reset_index(name='count')\n",
    "\n",
    "# 2. Pivot the data to get a count of sentiments per rating group\n",
    "pivot_df = sentiment_counts.pivot(index='rating_group', columns='sentiment', values='count').fillna(0).reset_index()\n",
    "\n",
    "# Ensure the sentiments are in the correct order\n",
    "sentiments = ['positive', 'neutral', 'negative']\n",
    "\n",
    "# 3. Plotting\n",
    "\n",
    "# Create the plot\n",
    "fig, ax = plt.subplots(figsize=(14, 7))\n",
    "\n",
    "# Define colors for each sentiment\n",
    "colors = {'positive': 'green', 'neutral': 'gray', 'negative': 'red'}\n",
    "\n",
    "# Initialize the bottom list to stack the bars\n",
    "bottom = [0] * len(pivot_df)\n",
    "\n",
    "# 4. Plot each sentiment as a stacked bar\n",
    "for sentiment in sentiments:\n",
    "    ax.bar(\n",
    "        pivot_df['rating_group'], \n",
    "        pivot_df[sentiment], \n",
    "        bottom=bottom, \n",
    "        label=sentiment, \n",
    "        color=colors[sentiment]\n",
    "    )\n",
    "    bottom = [i + j for i, j in zip(bottom, pivot_df[sentiment])]\n",
    "\n",
    "# Formatting the plot\n",
    "ax.set_title('Sentiment Distribution by Rating Group')\n",
    "ax.set_ylabel('Number of Reviews')\n",
    "ax.set_xlabel('Rating Group')\n",
    "ax.set_xticks(range(len(pivot_df['rating_group'])))\n",
    "ax.set_xticklabels(pivot_df['rating_group'], rotation=45, ha='right')\n",
    "ax.legend(title='Sentiment')\n",
    "plt.tight_layout()\n",
    "\n",
    "# Show the plot\n",
    "plt.show()\n"
   ]
  },
  {
   "cell_type": "code",
   "execution_count": null,
   "id": "2884cc0d-82c2-4f1c-9a5e-e871f2f5ee53",
   "metadata": {},
   "outputs": [],
   "source": []
  },
  {
   "cell_type": "code",
   "execution_count": null,
   "id": "ddb24525-f2c6-496e-a9b4-6622bf4b5f64",
   "metadata": {},
   "outputs": [],
   "source": []
  },
  {
   "cell_type": "code",
   "execution_count": null,
   "id": "3889193e-4b0a-4d65-b378-1871e20275ee",
   "metadata": {},
   "outputs": [],
   "source": []
  },
  {
   "cell_type": "code",
   "execution_count": null,
   "id": "0d4d82cf-1049-4387-8a8c-cbb3a52356df",
   "metadata": {},
   "outputs": [],
   "source": []
  },
  {
   "cell_type": "code",
   "execution_count": null,
   "id": "47cf52e0-222a-455a-b6fd-f64af3ceecf6",
   "metadata": {},
   "outputs": [],
   "source": []
  },
  {
   "cell_type": "code",
   "execution_count": null,
   "id": "c5b3fc49-3d41-4a73-b754-c361f1f719b7",
   "metadata": {},
   "outputs": [],
   "source": []
  },
  {
   "cell_type": "code",
   "execution_count": null,
   "id": "a765b143-06fc-49f6-8fe2-cde586781d5b",
   "metadata": {},
   "outputs": [],
   "source": []
  },
  {
   "cell_type": "code",
   "execution_count": null,
   "id": "fd83c652-1778-41cc-ba8c-908afcef5876",
   "metadata": {},
   "outputs": [],
   "source": []
  },
  {
   "cell_type": "code",
   "execution_count": null,
   "id": "b6710f9a-eba2-46ad-a0a7-ea7e5537d767",
   "metadata": {},
   "outputs": [],
   "source": []
  },
  {
   "cell_type": "code",
   "execution_count": null,
   "id": "be62f4de-f9d5-481a-ab13-ee90a6156471",
   "metadata": {},
   "outputs": [],
   "source": []
  },
  {
   "cell_type": "code",
   "execution_count": null,
   "id": "74227a63-3dd1-4b94-b72d-23cb4864462a",
   "metadata": {},
   "outputs": [],
   "source": []
  },
  {
   "cell_type": "code",
   "execution_count": null,
   "id": "4a70e371-f59c-4624-8309-17b01221b184",
   "metadata": {},
   "outputs": [],
   "source": []
  },
  {
   "cell_type": "code",
   "execution_count": null,
   "id": "95668737-22a0-4d00-9981-94767b675177",
   "metadata": {},
   "outputs": [],
   "source": []
  },
  {
   "cell_type": "code",
   "execution_count": null,
   "id": "c1a5928b-1fdc-4f9e-925e-803b10b01e93",
   "metadata": {},
   "outputs": [],
   "source": []
  },
  {
   "cell_type": "code",
   "execution_count": null,
   "id": "661cbca5-5788-4466-b469-0438ab13bbcc",
   "metadata": {},
   "outputs": [],
   "source": []
  },
  {
   "cell_type": "code",
   "execution_count": null,
   "id": "d73638df-fae0-4b20-bb06-a6c8a1671e20",
   "metadata": {},
   "outputs": [],
   "source": []
  },
  {
   "cell_type": "code",
   "execution_count": null,
   "id": "0559f046-5841-46ba-ba43-31918cdd2084",
   "metadata": {},
   "outputs": [],
   "source": []
  },
  {
   "cell_type": "code",
   "execution_count": null,
   "id": "763f264d-1ccb-48e5-be47-cbb449149526",
   "metadata": {},
   "outputs": [],
   "source": []
  },
  {
   "cell_type": "code",
   "execution_count": null,
   "id": "75f3222d-a07f-49b7-8008-d835e1ca17db",
   "metadata": {},
   "outputs": [],
   "source": []
  },
  {
   "cell_type": "code",
   "execution_count": null,
   "id": "c98b4e9e-660a-449c-bbe3-5ffcf0dec2ca",
   "metadata": {},
   "outputs": [],
   "source": []
  },
  {
   "cell_type": "code",
   "execution_count": null,
   "id": "91c76091-3149-40a0-827c-df1b3439fc9e",
   "metadata": {},
   "outputs": [],
   "source": []
  },
  {
   "cell_type": "code",
   "execution_count": null,
   "id": "c5e363d9-9181-4800-a943-d8a3a9890065",
   "metadata": {},
   "outputs": [],
   "source": []
  },
  {
   "cell_type": "code",
   "execution_count": null,
   "id": "c2bf7b51-25b2-4e51-8246-38bb9843169a",
   "metadata": {},
   "outputs": [],
   "source": []
  },
  {
   "cell_type": "code",
   "execution_count": null,
   "id": "5d5dac4a-fe11-4db9-8705-f1505876574c",
   "metadata": {},
   "outputs": [],
   "source": []
  },
  {
   "cell_type": "code",
   "execution_count": null,
   "id": "9720e1a5-4cfa-453f-a59a-f9ceffc37086",
   "metadata": {},
   "outputs": [],
   "source": []
  },
  {
   "cell_type": "code",
   "execution_count": null,
   "id": "1ea17c95-0259-4826-8b3b-d08763f8330c",
   "metadata": {},
   "outputs": [],
   "source": []
  },
  {
   "cell_type": "code",
   "execution_count": null,
   "id": "490ee05f-b040-4d8d-87c6-142ef304c5f7",
   "metadata": {},
   "outputs": [],
   "source": []
  },
  {
   "cell_type": "code",
   "execution_count": null,
   "id": "49c5789b-41e1-4683-9ec9-847b5c0ea04e",
   "metadata": {},
   "outputs": [],
   "source": []
  },
  {
   "cell_type": "code",
   "execution_count": null,
   "id": "bcb468fe-14d5-4d79-834a-cf292fdfd0c0",
   "metadata": {},
   "outputs": [],
   "source": []
  },
  {
   "cell_type": "code",
   "execution_count": null,
   "id": "96bb07e3-ff51-4471-bc26-f288d047cb0b",
   "metadata": {},
   "outputs": [],
   "source": []
  },
  {
   "cell_type": "code",
   "execution_count": null,
   "id": "2dbdbf71-68b7-44b8-9bcd-ef60fd45d9e0",
   "metadata": {},
   "outputs": [],
   "source": []
  },
  {
   "cell_type": "code",
   "execution_count": null,
   "id": "bdc09a68-fe26-4bd0-9458-6d391e94a459",
   "metadata": {},
   "outputs": [],
   "source": []
  },
  {
   "cell_type": "code",
   "execution_count": null,
   "id": "994526aa-794f-4adf-81f0-054b293248b2",
   "metadata": {},
   "outputs": [],
   "source": []
  },
  {
   "cell_type": "code",
   "execution_count": null,
   "id": "f5b1525c-af26-47f7-8a6f-19f268376823",
   "metadata": {},
   "outputs": [],
   "source": []
  },
  {
   "cell_type": "code",
   "execution_count": null,
   "id": "ff625175-e8e8-4b28-8e2b-ae68e1b334ec",
   "metadata": {},
   "outputs": [],
   "source": []
  },
  {
   "cell_type": "code",
   "execution_count": null,
   "id": "60d89e8b-c381-4cd8-a200-5574d881068b",
   "metadata": {},
   "outputs": [],
   "source": []
  },
  {
   "cell_type": "code",
   "execution_count": null,
   "id": "694948dc-d70f-44ac-9739-0a98443d43d0",
   "metadata": {},
   "outputs": [],
   "source": []
  },
  {
   "cell_type": "code",
   "execution_count": null,
   "id": "c1a588c4-12a2-4155-947d-1099f04111e3",
   "metadata": {},
   "outputs": [],
   "source": []
  },
  {
   "cell_type": "code",
   "execution_count": null,
   "id": "8146f211-9361-467b-8a54-082defd84906",
   "metadata": {},
   "outputs": [],
   "source": []
  },
  {
   "cell_type": "code",
   "execution_count": null,
   "id": "cc5c89c1-0867-497e-ac0a-00b4072ae1dd",
   "metadata": {},
   "outputs": [],
   "source": []
  },
  {
   "cell_type": "code",
   "execution_count": null,
   "id": "ccec4f7c-4947-4b30-976c-a626a1d9ac59",
   "metadata": {},
   "outputs": [],
   "source": []
  },
  {
   "cell_type": "code",
   "execution_count": null,
   "id": "649e4f49-1b96-4e80-8b33-77dd79929153",
   "metadata": {},
   "outputs": [],
   "source": []
  },
  {
   "cell_type": "code",
   "execution_count": null,
   "id": "a2c8f525-5f49-47d4-9f35-876b72eb30b1",
   "metadata": {},
   "outputs": [],
   "source": []
  },
  {
   "cell_type": "code",
   "execution_count": null,
   "id": "f1343b2d-4a83-4d70-8c1d-47c4bcc7e94c",
   "metadata": {},
   "outputs": [],
   "source": []
  },
  {
   "cell_type": "code",
   "execution_count": null,
   "id": "f7d460bd-31a4-425a-8ab5-9245e89f5238",
   "metadata": {},
   "outputs": [],
   "source": []
  },
  {
   "cell_type": "code",
   "execution_count": null,
   "id": "fdd7e2ac-3077-419d-9de2-e51473df7b16",
   "metadata": {},
   "outputs": [],
   "source": []
  },
  {
   "cell_type": "code",
   "execution_count": null,
   "id": "fb508632-d5c2-4c50-a5aa-aed1bfa5e779",
   "metadata": {},
   "outputs": [],
   "source": []
  },
  {
   "cell_type": "code",
   "execution_count": null,
   "id": "176d4d97-e215-4692-a900-183e0e2df010",
   "metadata": {},
   "outputs": [],
   "source": []
  },
  {
   "cell_type": "code",
   "execution_count": null,
   "id": "091830b2-251e-47c6-a0f9-1ad3291121a6",
   "metadata": {},
   "outputs": [],
   "source": []
  },
  {
   "cell_type": "code",
   "execution_count": null,
   "id": "f1fcc5e8-0bbe-4309-bb80-e21f3be1fcb6",
   "metadata": {},
   "outputs": [],
   "source": []
  },
  {
   "cell_type": "code",
   "execution_count": null,
   "id": "259de93c-f2bd-4d77-b46e-8f340f5a0afd",
   "metadata": {},
   "outputs": [],
   "source": []
  },
  {
   "cell_type": "code",
   "execution_count": null,
   "id": "28887de5-c9e5-4f80-a177-15ece7d177eb",
   "metadata": {},
   "outputs": [],
   "source": []
  },
  {
   "cell_type": "code",
   "execution_count": null,
   "id": "5a2d7cff-3b7f-44f1-8e83-1ac499daf643",
   "metadata": {},
   "outputs": [],
   "source": []
  },
  {
   "cell_type": "code",
   "execution_count": null,
   "id": "ea12fdc0-282a-45a5-a8a0-5cd74581ce70",
   "metadata": {},
   "outputs": [],
   "source": []
  },
  {
   "cell_type": "code",
   "execution_count": null,
   "id": "f49d5538-5d5d-4326-9f68-c80696c86da3",
   "metadata": {},
   "outputs": [],
   "source": []
  },
  {
   "cell_type": "code",
   "execution_count": null,
   "id": "6fa54847-6c69-48fb-8d5c-4681344ab8e4",
   "metadata": {},
   "outputs": [],
   "source": []
  },
  {
   "cell_type": "code",
   "execution_count": null,
   "id": "63d7cac2-2dbe-4c85-a864-ab247f745bf6",
   "metadata": {},
   "outputs": [],
   "source": []
  },
  {
   "cell_type": "code",
   "execution_count": null,
   "id": "9583981f-da46-4f09-8643-1a4f908c574c",
   "metadata": {},
   "outputs": [],
   "source": []
  },
  {
   "cell_type": "code",
   "execution_count": null,
   "id": "270f6cb1-f6c1-45f0-bd68-8dc9f14ca176",
   "metadata": {},
   "outputs": [],
   "source": []
  },
  {
   "cell_type": "code",
   "execution_count": null,
   "id": "edb15108-5366-41ee-be1b-5c010c479ff9",
   "metadata": {},
   "outputs": [],
   "source": []
  },
  {
   "cell_type": "code",
   "execution_count": null,
   "id": "b03f34c3-da34-4e7e-ad50-02d09de16bf7",
   "metadata": {},
   "outputs": [],
   "source": []
  },
  {
   "cell_type": "code",
   "execution_count": null,
   "id": "01864dbe-346f-4b7e-9298-98e374c306a5",
   "metadata": {},
   "outputs": [],
   "source": []
  },
  {
   "cell_type": "code",
   "execution_count": null,
   "id": "e3384df4-b91f-4c55-94aa-cacff37e3ebe",
   "metadata": {},
   "outputs": [],
   "source": []
  },
  {
   "cell_type": "code",
   "execution_count": null,
   "id": "99735a8e-c513-4aa2-a507-eb8e049ad8d3",
   "metadata": {},
   "outputs": [],
   "source": []
  },
  {
   "cell_type": "code",
   "execution_count": null,
   "id": "d8df4e1a-766e-4171-be81-3f09e50fc4d4",
   "metadata": {},
   "outputs": [],
   "source": []
  },
  {
   "cell_type": "code",
   "execution_count": null,
   "id": "98ebab5f-84a1-4c33-b1e0-cddceafbf808",
   "metadata": {},
   "outputs": [],
   "source": []
  },
  {
   "cell_type": "code",
   "execution_count": null,
   "id": "59f841f3-c67e-4760-812c-8de67e8b43b5",
   "metadata": {},
   "outputs": [],
   "source": []
  },
  {
   "cell_type": "code",
   "execution_count": null,
   "id": "8407bc56-c3bd-461b-8b5b-09ad8fb8dcbd",
   "metadata": {},
   "outputs": [],
   "source": []
  },
  {
   "cell_type": "code",
   "execution_count": null,
   "id": "837c2c22-10e6-46c8-b3ae-6cf95ca6bb58",
   "metadata": {},
   "outputs": [],
   "source": []
  },
  {
   "cell_type": "code",
   "execution_count": null,
   "id": "3221aad3-b1ec-4da2-8b7d-55257603bacf",
   "metadata": {},
   "outputs": [],
   "source": []
  },
  {
   "cell_type": "code",
   "execution_count": null,
   "id": "da41acaa-74f9-4568-bb57-93f0aff74d1e",
   "metadata": {},
   "outputs": [],
   "source": []
  },
  {
   "cell_type": "code",
   "execution_count": null,
   "id": "d226cd79-b620-4943-8909-3e6179b87d38",
   "metadata": {},
   "outputs": [],
   "source": []
  },
  {
   "cell_type": "code",
   "execution_count": null,
   "id": "a22e7605-f5a5-45ba-a0dd-06d6c8c16a0a",
   "metadata": {},
   "outputs": [],
   "source": []
  },
  {
   "cell_type": "code",
   "execution_count": null,
   "id": "7becfa90-f9e7-4b3b-8eb0-8cf095a147d2",
   "metadata": {},
   "outputs": [],
   "source": []
  },
  {
   "cell_type": "code",
   "execution_count": null,
   "id": "24e64f9c-34b4-4b51-843e-83fa8bf1d493",
   "metadata": {},
   "outputs": [],
   "source": []
  },
  {
   "cell_type": "code",
   "execution_count": null,
   "id": "c706b9c3-b6b5-4522-af7d-af2c3eb53b80",
   "metadata": {},
   "outputs": [],
   "source": []
  },
  {
   "cell_type": "code",
   "execution_count": null,
   "id": "92770ee2-8731-4abf-87e9-79fa132ff28a",
   "metadata": {},
   "outputs": [],
   "source": []
  },
  {
   "cell_type": "code",
   "execution_count": null,
   "id": "e1da90f1-d044-41b6-8c3e-b70016ed59ad",
   "metadata": {},
   "outputs": [],
   "source": []
  },
  {
   "cell_type": "code",
   "execution_count": null,
   "id": "b8b1c441-8196-4493-811f-1d42ee46801f",
   "metadata": {},
   "outputs": [],
   "source": []
  },
  {
   "cell_type": "code",
   "execution_count": null,
   "id": "180be216-f4a0-45a9-91fc-d060ea4d63cb",
   "metadata": {},
   "outputs": [],
   "source": []
  },
  {
   "cell_type": "code",
   "execution_count": null,
   "id": "496ad13f-386e-4926-9044-a2f7ad08b4b8",
   "metadata": {},
   "outputs": [],
   "source": []
  },
  {
   "cell_type": "code",
   "execution_count": null,
   "id": "dcabffa6-4bc6-4a2b-8995-304b8903e7fd",
   "metadata": {},
   "outputs": [],
   "source": []
  },
  {
   "cell_type": "code",
   "execution_count": null,
   "id": "03765506-96bd-4e3d-a6d2-6985dbfb77b1",
   "metadata": {},
   "outputs": [],
   "source": []
  },
  {
   "cell_type": "code",
   "execution_count": null,
   "id": "0216fc9e-cac0-4473-83e2-0300e4fe7dbf",
   "metadata": {},
   "outputs": [],
   "source": []
  },
  {
   "cell_type": "code",
   "execution_count": null,
   "id": "b9cfbd5b-cf0e-4a8b-921c-370fc0171af4",
   "metadata": {},
   "outputs": [],
   "source": []
  },
  {
   "cell_type": "code",
   "execution_count": null,
   "id": "6852cae2-e3e1-48dd-bd3d-8e5fb935e927",
   "metadata": {},
   "outputs": [],
   "source": []
  },
  {
   "cell_type": "code",
   "execution_count": null,
   "id": "2e0593b6-74df-41fa-87ab-a506dd267bb9",
   "metadata": {},
   "outputs": [],
   "source": []
  },
  {
   "cell_type": "code",
   "execution_count": null,
   "id": "c3626255-54bf-4326-89ab-a50491e88810",
   "metadata": {},
   "outputs": [],
   "source": []
  },
  {
   "cell_type": "code",
   "execution_count": null,
   "id": "6f5288e4-6f37-4318-9906-5a5a5c389df8",
   "metadata": {},
   "outputs": [],
   "source": []
  },
  {
   "cell_type": "code",
   "execution_count": null,
   "id": "b4dbbca7-a4cb-4d20-b862-a3a07e779076",
   "metadata": {},
   "outputs": [],
   "source": []
  },
  {
   "cell_type": "code",
   "execution_count": null,
   "id": "1c786e62-556a-48da-ba10-da690c9cd6b4",
   "metadata": {},
   "outputs": [],
   "source": []
  },
  {
   "cell_type": "code",
   "execution_count": null,
   "id": "608d9eb6-1ef0-4962-bb7a-108c5d73ecb5",
   "metadata": {},
   "outputs": [],
   "source": []
  },
  {
   "cell_type": "code",
   "execution_count": null,
   "id": "dbc4a4e6-9e03-4bbf-a8f6-d084cce37329",
   "metadata": {},
   "outputs": [],
   "source": []
  },
  {
   "cell_type": "code",
   "execution_count": null,
   "id": "1756b4d8-4ad9-4026-9ce8-8a616fdd5e5f",
   "metadata": {},
   "outputs": [],
   "source": []
  },
  {
   "cell_type": "code",
   "execution_count": null,
   "id": "b87c4424-3f98-4deb-8af4-f3d265bf9fb6",
   "metadata": {},
   "outputs": [],
   "source": []
  },
  {
   "cell_type": "code",
   "execution_count": null,
   "id": "ef19b860-f184-4bcc-a97a-b72dd848ba4d",
   "metadata": {},
   "outputs": [],
   "source": []
  },
  {
   "cell_type": "code",
   "execution_count": null,
   "id": "fb9e90e5-b07a-48de-9456-5b1853b92c32",
   "metadata": {},
   "outputs": [],
   "source": []
  },
  {
   "cell_type": "code",
   "execution_count": null,
   "id": "3a855b22-842f-4e85-8eaa-6cdab8891156",
   "metadata": {},
   "outputs": [],
   "source": []
  },
  {
   "cell_type": "code",
   "execution_count": null,
   "id": "82e1ea96-630c-4517-8dad-508a83667393",
   "metadata": {},
   "outputs": [],
   "source": []
  },
  {
   "cell_type": "code",
   "execution_count": null,
   "id": "7222590f-d307-4c89-8795-b5c668c55fbc",
   "metadata": {},
   "outputs": [],
   "source": []
  },
  {
   "cell_type": "code",
   "execution_count": null,
   "id": "b706f780-fdcd-4238-8d13-389d03de2651",
   "metadata": {},
   "outputs": [],
   "source": []
  },
  {
   "cell_type": "code",
   "execution_count": null,
   "id": "4c698e86-5bdc-461f-8a94-44dee0308e19",
   "metadata": {},
   "outputs": [],
   "source": []
  },
  {
   "cell_type": "code",
   "execution_count": null,
   "id": "684fc976-d9ea-498c-a4c1-a2b44fa51a30",
   "metadata": {},
   "outputs": [],
   "source": []
  },
  {
   "cell_type": "code",
   "execution_count": null,
   "id": "222ce812-15c6-4e58-8272-f71a1345595b",
   "metadata": {},
   "outputs": [],
   "source": []
  },
  {
   "cell_type": "code",
   "execution_count": null,
   "id": "8ebb35e0-5a64-4ae2-b3c9-f641bab33d0b",
   "metadata": {},
   "outputs": [],
   "source": []
  },
  {
   "cell_type": "code",
   "execution_count": null,
   "id": "859c5704-1b13-4512-9a1f-3b1bdfaf938a",
   "metadata": {},
   "outputs": [],
   "source": []
  },
  {
   "cell_type": "code",
   "execution_count": null,
   "id": "3b0ec7c0-eecf-4d76-a31a-a24e4b163d2a",
   "metadata": {},
   "outputs": [],
   "source": []
  },
  {
   "cell_type": "code",
   "execution_count": null,
   "id": "4fc98629-1276-4701-8b49-89b726d8a851",
   "metadata": {},
   "outputs": [],
   "source": []
  },
  {
   "cell_type": "code",
   "execution_count": null,
   "id": "0d655f46-b7f8-4a7e-b262-c80a48859a12",
   "metadata": {},
   "outputs": [],
   "source": []
  },
  {
   "cell_type": "code",
   "execution_count": null,
   "id": "fa2a3c73-aee8-45c6-b8c2-13f17273a33e",
   "metadata": {},
   "outputs": [],
   "source": []
  },
  {
   "cell_type": "code",
   "execution_count": null,
   "id": "b1c003cf-9621-4343-af4d-6b1ff534c462",
   "metadata": {},
   "outputs": [],
   "source": []
  },
  {
   "cell_type": "code",
   "execution_count": null,
   "id": "c6bd8209-9a46-48eb-a7e6-9a61c9b5407e",
   "metadata": {},
   "outputs": [],
   "source": []
  },
  {
   "cell_type": "code",
   "execution_count": null,
   "id": "d9b5aef5-a390-4ff9-9998-ff08bc7eb310",
   "metadata": {},
   "outputs": [],
   "source": []
  }
 ],
 "metadata": {
  "kernelspec": {
   "display_name": "Python 3 (ipykernel)",
   "language": "python",
   "name": "python3"
  },
  "language_info": {
   "codemirror_mode": {
    "name": "ipython",
    "version": 3
   },
   "file_extension": ".py",
   "mimetype": "text/x-python",
   "name": "python",
   "nbconvert_exporter": "python",
   "pygments_lexer": "ipython3",
   "version": "3.12.4"
  }
 },
 "nbformat": 4,
 "nbformat_minor": 5
}
