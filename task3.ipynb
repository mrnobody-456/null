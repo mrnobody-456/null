{
 "cells": [
  {
   "cell_type": "code",
   "execution_count": 1,
   "id": "0c74d681-847d-4948-86c6-49e839b5b83b",
   "metadata": {},
   "outputs": [
    {
     "name": "stderr",
     "output_type": "stream",
     "text": [
      "2025-05-06 22:48:36.670 \n",
      "  \u001b[33m\u001b[1mWarning:\u001b[0m to view this Streamlit app on a browser, run it with the following\n",
      "  command:\n",
      "\n",
      "    streamlit run C:\\Users\\Raghuraman\\anaconda3\\Lib\\site-packages\\ipykernel_launcher.py [ARGUMENTS]\n"
     ]
    }
   ],
   "source": [
    "import streamlit as st\n",
    "import pandas as pd\n",
    "import plotly.graph_objects as go\n",
    "from datetime import datetime\n",
    "import pytz\n",
    "\n",
    "# Get IST current hour\n",
    "india_time = datetime.now(pytz.timezone('Asia/Kolkata'))\n",
    "current_hour = india_time.hour\n",
    "\n",
    "if 18 <= current_hour < 21:\n",
    "    # --- Filter dataset ---\n",
    "    df = user_review.copy()\n",
    "    \n",
    "    # Convert date column if not already\n",
    "    df['date'] = pd.to_datetime(df['date'])\n",
    "\n",
    "    # Apply filters\n",
    "    df = df[\n",
    "        (~df['app'].str.lower().str.startswith(('x', 'y', 'z'))) &\n",
    "        (df['category'].str.upper().str.startswith(('E', 'C', 'B'))) &\n",
    "        (df['reviews'] > 500)\n",
    "    ]\n",
    "\n",
    "    # Add year-month for grouping\n",
    "    df['month'] = df['date'].dt.to_period('M').dt.to_timestamp()\n",
    "\n",
    "    # Aggregate installs per month and category\n",
    "    monthly_installs = df.groupby(['month', 'category'])['installs'].sum().reset_index()\n",
    "\n",
    "    # Compute % change\n",
    "    monthly_installs['pct_change'] = monthly_installs.groupby('category')['installs'].pct_change()\n",
    "\n",
    "    # --- Streamlit Slider for Date Filter ---\n",
    "    min_date = monthly_installs['month'].min()\n",
    "    max_date = monthly_installs['month'].max()\n",
    "    \n",
    "    start_date, end_date = st.slider(\n",
    "        \"Select Date Range\",\n",
    "        min_value=min_date,\n",
    "        max_value=max_date,\n",
    "        value=(min_date, max_date),\n",
    "        format=\"YYYY-MM\"\n",
    "    )\n",
    "\n",
    "    # Filter data based on selected date range\n",
    "    monthly_installs_filtered = monthly_installs[\n",
    "        (monthly_installs['month'] >= start_date) & \n",
    "        (monthly_installs['month'] <= end_date)\n",
    "    ]\n",
    "\n",
    "    # --- Plotting with Plotly ---\n",
    "    fig = go.Figure()\n",
    "\n",
    "    categories = monthly_installs_filtered['category'].unique()\n",
    "\n",
    "    for category in categories:\n",
    "        sub = monthly_installs_filtered[monthly_installs_filtered['category'] == category]\n",
    "        \n",
    "        # Plot line for installs\n",
    "        fig.add_trace(go.Scatter(\n",
    "            x=sub['month'],\n",
    "            y=sub['installs'],\n",
    "            mode='lines+markers',\n",
    "            name=category,\n",
    "            text=sub['installs'],\n",
    "            hoverinfo='x+y+text',  # Show month and installs in tooltip\n",
    "            line=dict(width=2)\n",
    "        ))\n",
    "\n",
    "        # Highlight periods of >20% MoM growth\n",
    "        growth_periods = sub[sub['pct_change'] > 0.2]\n",
    "        fig.add_trace(go.Scatter(\n",
    "            x=growth_periods['month'],\n",
    "            y=growth_periods['installs'],\n",
    "            mode='markers',\n",
    "            name=f'{category} >20% Growth',\n",
    "            marker=dict(size=10, color='rgba(255, 165, 0, 0.7)'),  # Orange color for growth periods\n",
    "            text=growth_periods['installs'],\n",
    "            hoverinfo='x+y+text',\n",
    "            showlegend=False\n",
    "        ))\n",
    "\n",
    "    # Update layout\n",
    "    fig.update_layout(\n",
    "        title=\"Monthly Install Trend by Category (Highlighted >20% MoM Growth)\",\n",
    "        xaxis_title=\"Month\",\n",
    "        yaxis_title=\"Total Installs\",\n",
    "        hovermode=\"x unified\",  # Display tooltips when hovering on a specific month across all lines\n",
    "        template=\"plotly_dark\",  # Dark theme\n",
    "        xaxis=dict(tickformat=\"%b %Y\"),  # Format x-axis as Month Year\n",
    "    )\n",
    "\n",
    "    # Show Plotly figure in Streamlit\n",
    "    st.plotly_chart(fig)\n",
    "\n",
    "else:\n",
    "    st.warning(\"This chart is only visible from 6 PM to 9 PM IST.\")\n"
   ]
  },
  {
   "cell_type": "code",
   "execution_count": null,
   "id": "28770c68-a55f-4a17-9d74-1b19f6b5ef04",
   "metadata": {},
   "outputs": [],
   "source": []
  },
  {
   "cell_type": "code",
   "execution_count": null,
   "id": "92fbae68-9a8c-4624-84e2-7d43d53ef8d5",
   "metadata": {},
   "outputs": [],
   "source": []
  },
  {
   "cell_type": "code",
   "execution_count": null,
   "id": "afa4fed4-d95b-41e1-895a-22ff9f4c2ae8",
   "metadata": {},
   "outputs": [],
   "source": []
  },
  {
   "cell_type": "code",
   "execution_count": null,
   "id": "3dbf6964-f1ee-432f-bc38-04620065fc75",
   "metadata": {},
   "outputs": [],
   "source": []
  },
  {
   "cell_type": "code",
   "execution_count": null,
   "id": "e362efd4-f219-4c99-b5a1-44c197d04d20",
   "metadata": {},
   "outputs": [],
   "source": []
  },
  {
   "cell_type": "code",
   "execution_count": null,
   "id": "a4da1d5d-c330-49fe-b267-ffff1eea9c3a",
   "metadata": {},
   "outputs": [],
   "source": []
  },
  {
   "cell_type": "code",
   "execution_count": null,
   "id": "a82eebd4-b420-4255-9322-6849a983ccae",
   "metadata": {},
   "outputs": [],
   "source": []
  },
  {
   "cell_type": "code",
   "execution_count": null,
   "id": "16c68a19-0af8-45c1-89fc-9c8657727f82",
   "metadata": {},
   "outputs": [],
   "source": []
  },
  {
   "cell_type": "code",
   "execution_count": null,
   "id": "52f67c59-f765-44f7-a080-1b27ead4b430",
   "metadata": {},
   "outputs": [],
   "source": []
  },
  {
   "cell_type": "code",
   "execution_count": null,
   "id": "d608738d-ee6c-4ab2-a4d9-80c45d984584",
   "metadata": {},
   "outputs": [],
   "source": []
  },
  {
   "cell_type": "code",
   "execution_count": null,
   "id": "80e4eff4-1d39-486e-ade5-1af20682eca4",
   "metadata": {},
   "outputs": [],
   "source": []
  },
  {
   "cell_type": "code",
   "execution_count": null,
   "id": "22bb50cf-0f41-4c95-bb6d-4ba78fe31940",
   "metadata": {},
   "outputs": [],
   "source": []
  },
  {
   "cell_type": "code",
   "execution_count": null,
   "id": "12455c1f-41f2-4dfd-9108-48508b05bb27",
   "metadata": {},
   "outputs": [],
   "source": []
  },
  {
   "cell_type": "code",
   "execution_count": null,
   "id": "639a3f58-b140-431b-97fc-66da1014afd9",
   "metadata": {},
   "outputs": [],
   "source": []
  },
  {
   "cell_type": "code",
   "execution_count": null,
   "id": "5adebff1-7db6-49d6-a1c7-3821ca70581b",
   "metadata": {},
   "outputs": [],
   "source": []
  },
  {
   "cell_type": "code",
   "execution_count": null,
   "id": "99c005a1-73f2-4e4a-ab18-daea38b985e5",
   "metadata": {},
   "outputs": [],
   "source": []
  },
  {
   "cell_type": "code",
   "execution_count": null,
   "id": "f0ca46a1-8c1f-42bc-8848-8343107817ec",
   "metadata": {},
   "outputs": [],
   "source": []
  },
  {
   "cell_type": "code",
   "execution_count": null,
   "id": "ddaaa761-d4c0-4262-aead-97a60680b60b",
   "metadata": {},
   "outputs": [],
   "source": []
  },
  {
   "cell_type": "code",
   "execution_count": null,
   "id": "5d9796a9-3aef-46c2-8e82-ce249e490193",
   "metadata": {},
   "outputs": [],
   "source": []
  },
  {
   "cell_type": "code",
   "execution_count": null,
   "id": "69a9caf4-d687-4d4f-a6df-99d241d80f1c",
   "metadata": {},
   "outputs": [],
   "source": []
  },
  {
   "cell_type": "code",
   "execution_count": null,
   "id": "48a02632-4b15-44a1-b509-8d374b78bab7",
   "metadata": {},
   "outputs": [],
   "source": []
  },
  {
   "cell_type": "code",
   "execution_count": null,
   "id": "3593189b-05c1-4931-89f8-59c7db882732",
   "metadata": {},
   "outputs": [],
   "source": []
  },
  {
   "cell_type": "code",
   "execution_count": null,
   "id": "6847baa3-6ad4-4662-98aa-2c300a262114",
   "metadata": {},
   "outputs": [],
   "source": []
  },
  {
   "cell_type": "code",
   "execution_count": null,
   "id": "a95333bc-326a-4ae1-bea8-05d9e6a9933c",
   "metadata": {},
   "outputs": [],
   "source": []
  },
  {
   "cell_type": "code",
   "execution_count": null,
   "id": "24fb9557-ff4d-4590-b92e-ddfd6b6ad660",
   "metadata": {},
   "outputs": [],
   "source": []
  },
  {
   "cell_type": "code",
   "execution_count": null,
   "id": "b7e491dd-3795-4d56-b773-8158ac4d4174",
   "metadata": {},
   "outputs": [],
   "source": []
  },
  {
   "cell_type": "code",
   "execution_count": null,
   "id": "8020e480-6df2-4317-9b33-d39d808837ce",
   "metadata": {},
   "outputs": [],
   "source": []
  },
  {
   "cell_type": "code",
   "execution_count": null,
   "id": "a31c76f3-2c6e-4751-a4f2-b04ac29eed3c",
   "metadata": {},
   "outputs": [],
   "source": []
  },
  {
   "cell_type": "code",
   "execution_count": null,
   "id": "24f5d6d2-9e11-4f8f-ac95-70184fd6dbf2",
   "metadata": {},
   "outputs": [],
   "source": []
  },
  {
   "cell_type": "code",
   "execution_count": null,
   "id": "b436077d-8c08-4ace-a3a9-fe98216e45a2",
   "metadata": {},
   "outputs": [],
   "source": []
  },
  {
   "cell_type": "code",
   "execution_count": null,
   "id": "0e94169d-11e2-4fd5-a310-66863a3b93e1",
   "metadata": {},
   "outputs": [],
   "source": []
  },
  {
   "cell_type": "code",
   "execution_count": null,
   "id": "3a40dc9a-f5a6-4ff2-83f9-f9fccf3fee0e",
   "metadata": {},
   "outputs": [],
   "source": []
  },
  {
   "cell_type": "code",
   "execution_count": null,
   "id": "e619748b-ed3c-4ac5-a686-dbca830edccb",
   "metadata": {},
   "outputs": [],
   "source": []
  },
  {
   "cell_type": "code",
   "execution_count": null,
   "id": "e536d063-34f6-4685-81ee-ba969c07f1e6",
   "metadata": {},
   "outputs": [],
   "source": []
  },
  {
   "cell_type": "code",
   "execution_count": null,
   "id": "8a8eded6-dcc4-42c7-bc6b-0b40089f5a75",
   "metadata": {},
   "outputs": [],
   "source": []
  },
  {
   "cell_type": "code",
   "execution_count": null,
   "id": "16e49d0e-aac7-44ce-99e2-5ae5ed312292",
   "metadata": {},
   "outputs": [],
   "source": []
  },
  {
   "cell_type": "code",
   "execution_count": null,
   "id": "a878e659-d8fd-4abf-920b-430104d89080",
   "metadata": {},
   "outputs": [],
   "source": []
  },
  {
   "cell_type": "code",
   "execution_count": null,
   "id": "f7eaa838-50c7-4f35-8c74-7bdd6ed4b6d0",
   "metadata": {},
   "outputs": [],
   "source": []
  },
  {
   "cell_type": "code",
   "execution_count": null,
   "id": "c56040dd-bc3d-431a-8349-69afd3328d64",
   "metadata": {},
   "outputs": [],
   "source": []
  },
  {
   "cell_type": "code",
   "execution_count": null,
   "id": "80ac0025-a74a-4ae6-8fec-ee7237d0b811",
   "metadata": {},
   "outputs": [],
   "source": []
  },
  {
   "cell_type": "code",
   "execution_count": null,
   "id": "0647548e-27a1-4ab0-855a-acb093fc0934",
   "metadata": {},
   "outputs": [],
   "source": []
  },
  {
   "cell_type": "code",
   "execution_count": null,
   "id": "7b782b2c-bf66-492c-8981-8d08d57dfc9b",
   "metadata": {},
   "outputs": [],
   "source": []
  },
  {
   "cell_type": "code",
   "execution_count": null,
   "id": "636ccae2-efc2-42e8-bb2b-d6250eb1e76e",
   "metadata": {},
   "outputs": [],
   "source": []
  },
  {
   "cell_type": "code",
   "execution_count": null,
   "id": "6177d524-096b-4bd2-9e50-aedd74621281",
   "metadata": {},
   "outputs": [],
   "source": []
  },
  {
   "cell_type": "code",
   "execution_count": null,
   "id": "770e69a4-c9db-45dc-ad35-c8986af93bb5",
   "metadata": {},
   "outputs": [],
   "source": []
  },
  {
   "cell_type": "code",
   "execution_count": null,
   "id": "99ac5b87-f046-4377-8c13-cd0b4087da1e",
   "metadata": {},
   "outputs": [],
   "source": []
  },
  {
   "cell_type": "code",
   "execution_count": null,
   "id": "4d0bc05c-b4a7-4704-8d80-a9f5c3e0b835",
   "metadata": {},
   "outputs": [],
   "source": []
  },
  {
   "cell_type": "code",
   "execution_count": null,
   "id": "989de256-1410-4770-a8e6-5cc7fa6f3e23",
   "metadata": {},
   "outputs": [],
   "source": []
  },
  {
   "cell_type": "code",
   "execution_count": null,
   "id": "d72a3bf1-f7af-45ec-be6a-321c06e6b43e",
   "metadata": {},
   "outputs": [],
   "source": []
  },
  {
   "cell_type": "code",
   "execution_count": null,
   "id": "1b5a621d-8780-4269-92ec-d4f789b4e33e",
   "metadata": {},
   "outputs": [],
   "source": []
  },
  {
   "cell_type": "code",
   "execution_count": null,
   "id": "58086747-0b85-46ff-bfd8-a820d81a7804",
   "metadata": {},
   "outputs": [],
   "source": []
  },
  {
   "cell_type": "code",
   "execution_count": null,
   "id": "34d151dc-453a-47e4-9842-c37b4610619a",
   "metadata": {},
   "outputs": [],
   "source": []
  }
 ],
 "metadata": {
  "kernelspec": {
   "display_name": "Python 3 (ipykernel)",
   "language": "python",
   "name": "python3"
  },
  "language_info": {
   "codemirror_mode": {
    "name": "ipython",
    "version": 3
   },
   "file_extension": ".py",
   "mimetype": "text/x-python",
   "name": "python",
   "nbconvert_exporter": "python",
   "pygments_lexer": "ipython3",
   "version": "3.12.4"
  }
 },
 "nbformat": 4,
 "nbformat_minor": 5
}
