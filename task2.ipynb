{
 "cells": [
  {
   "cell_type": "code",
   "execution_count": 1,
   "id": "aa1fc267-6699-48fd-9ae3-6eaf5a5a5d26",
   "metadata": {},
   "outputs": [
    {
     "name": "stderr",
     "output_type": "stream",
     "text": [
      "2025-05-06 22:33:43.794 \n",
      "  \u001b[33m\u001b[1mWarning:\u001b[0m to view this Streamlit app on a browser, run it with the following\n",
      "  command:\n",
      "\n",
      "    streamlit run C:\\Users\\Raghuraman\\anaconda3\\Lib\\site-packages\\ipykernel_launcher.py [ARGUMENTS]\n"
     ]
    }
   ],
   "source": [
    "import streamlit as st\n",
    "import pandas as pd\n",
    "import matplotlib.pyplot as plt\n",
    "import seaborn as sns\n",
    "from datetime import datetime\n",
    "import pytz\n",
    "\n",
    "# Get current hour in IST\n",
    "india_time = datetime.now(pytz.timezone('Asia/Kolkata'))\n",
    "current_hour = india_time.hour\n",
    "\n",
    "if current_hour == 13:\n",
    "    # Filter your data\n",
    "    filtered_df = user_review[\n",
    "        (user_review['installs'] >= 10000) &\n",
    "        (user_review['revenue'] >= 10000) &\n",
    "        (user_review['android_ver'] > 4.0) &\n",
    "        (user_review['size'] >= 15) &\n",
    "        (user_review['content_rating'] == 'Everyone') &\n",
    "        (user_review['app'].apply(lambda x: len(str(x)) <= 30))\n",
    "    ]\n",
    "    filtered_df = filtered_df[filtered_df['type'].isin(['Free', 'Paid'])]\n",
    "    top_categories = filtered_df['category'].value_counts().nlargest(3).index\n",
    "    filtered_df = filtered_df[filtered_df['category'].isin(top_categories)]\n",
    "\n",
    "    grouped = filtered_df.groupby(['category', 'type']).agg({\n",
    "        'installs': 'mean',\n",
    "        'revenue': 'mean'\n",
    "    }).reset_index()\n",
    "\n",
    "    # Plot chart\n",
    "    fig, ax1 = plt.subplots(figsize=(12, 6))\n",
    "\n",
    "    sns.barplot(\n",
    "        data=grouped,\n",
    "        x='category',\n",
    "        y='installs',\n",
    "        hue='type',\n",
    "        ax=ax1,\n",
    "        palette='Blues'\n",
    "    )\n",
    "    ax1.set_ylabel('Average Installs', color='blue')\n",
    "    ax1.tick_params(axis='y', labelcolor='blue')\n",
    "\n",
    "    ax2 = ax1.twinx()\n",
    "    for app_type in ['Free', 'Paid']:\n",
    "        sub = grouped[grouped['type'] == app_type]\n",
    "        ax2.plot(sub['category'], sub['revenue'], marker='o', label=f'{app_type} Revenue')\n",
    "    ax2.set_ylabel('Average Revenue ($)', color='green')\n",
    "    ax2.tick_params(axis='y', labelcolor='green')\n",
    "\n",
    "    plt.title('Avg Installs vs Revenue by Category and App Type (1–2 PM IST Only)')\n",
    "\n",
    "    # Combine legends\n",
    "    lines_labels = [ax.get_legend_handles_labels() for ax in [ax1, ax2]]\n",
    "    lines, labels = [sum(lol, []) for lol in zip(*lines_labels)]\n",
    "    ax1.legend(lines, labels, loc='upper left')\n",
    "\n",
    "    # Render the chart\n",
    "    st.pyplot(fig)\n",
    "\n",
    "else:\n",
    "    st.warning(\"This chart is only visible from 1 PM to 2 PM IST.\")\n"
   ]
  },
  {
   "cell_type": "code",
   "execution_count": null,
   "id": "8a9e3a55-c057-4c1b-b145-916efc145ba0",
   "metadata": {},
   "outputs": [],
   "source": [
    "#app.py\n",
    "#streamlit run app.py\n",
    "\n",
    "#http://localhost:8501\n",
    "\n",
    "#streamlit run app.py\n",
    "\n",
    "#\n",
    "#streamlit run app.py\n",
    "\n",
    "#"
   ]
  },
  {
   "cell_type": "code",
   "execution_count": null,
   "id": "d4641885-3d16-43aa-9d6b-ad3d4ae85484",
   "metadata": {},
   "outputs": [],
   "source": []
  },
  {
   "cell_type": "code",
   "execution_count": null,
   "id": "baaabb88-4581-4a70-8d19-e50dcb7b31cc",
   "metadata": {},
   "outputs": [],
   "source": []
  },
  {
   "cell_type": "code",
   "execution_count": null,
   "id": "e72e6feb-5f5f-4740-8e7f-698e8527ea25",
   "metadata": {},
   "outputs": [],
   "source": []
  },
  {
   "cell_type": "code",
   "execution_count": null,
   "id": "25f9a50c-e677-4311-9e78-06fdb64b0e1b",
   "metadata": {},
   "outputs": [],
   "source": []
  },
  {
   "cell_type": "code",
   "execution_count": null,
   "id": "e7dd317a-9092-446e-a506-6f0326d47c6a",
   "metadata": {},
   "outputs": [],
   "source": []
  }
 ],
 "metadata": {
  "kernelspec": {
   "display_name": "Python 3 (ipykernel)",
   "language": "python",
   "name": "python3"
  },
  "language_info": {
   "codemirror_mode": {
    "name": "ipython",
    "version": 3
   },
   "file_extension": ".py",
   "mimetype": "text/x-python",
   "name": "python",
   "nbconvert_exporter": "python",
   "pygments_lexer": "ipython3",
   "version": "3.12.4"
  }
 },
 "nbformat": 4,
 "nbformat_minor": 5
}
